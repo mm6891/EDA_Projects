{
 "cells": [
  {
   "cell_type": "markdown",
   "id": "3f1212c3",
   "metadata": {
    "papermill": {
     "duration": 0.012777,
     "end_time": "2024-11-05T12:45:20.706226",
     "exception": false,
     "start_time": "2024-11-05T12:45:20.693449",
     "status": "completed"
    },
    "tags": []
   },
   "source": [
    "We are the scouting team for one of the best football/soccer teams in the planet, and we need a replacement for our retirement middlefier\n",
    "\n",
    "Let's start by importing the recquired packages for our analysis"
   ]
  },
  {
   "cell_type": "code",
   "execution_count": 1,
   "id": "6ce9d6e9",
   "metadata": {
    "execution": {
     "iopub.execute_input": "2024-11-05T12:45:20.733288Z",
     "iopub.status.busy": "2024-11-05T12:45:20.732029Z",
     "iopub.status.idle": "2024-11-05T12:45:21.709064Z",
     "shell.execute_reply": "2024-11-05T12:45:21.707722Z"
    },
    "papermill": {
     "duration": 0.993344,
     "end_time": "2024-11-05T12:45:21.712064",
     "exception": false,
     "start_time": "2024-11-05T12:45:20.718720",
     "status": "completed"
    },
    "tags": []
   },
   "outputs": [],
   "source": [
    "import pandas as pd\n",
    "import numpy as np\n",
    "import random\n",
    "\n",
    "# Random seeds for reproductibility\n",
    "random.seed(42)\n",
    "np.random.seed(42)"
   ]
  },
  {
   "cell_type": "markdown",
   "id": "8dbcf870",
   "metadata": {
    "papermill": {
     "duration": 0.011428,
     "end_time": "2024-11-05T12:45:21.735294",
     "exception": false,
     "start_time": "2024-11-05T12:45:21.723866",
     "status": "completed"
    },
    "tags": []
   },
   "source": [
    "# **Load the dataset and depict the features**"
   ]
  },
  {
   "cell_type": "markdown",
   "id": "0e9c707b",
   "metadata": {
    "papermill": {
     "duration": 0.011169,
     "end_time": "2024-11-05T12:45:21.758001",
     "exception": false,
     "start_time": "2024-11-05T12:45:21.746832",
     "status": "completed"
    },
    "tags": []
   },
   "source": [
    "Load player stats dataset for season 2022-2023, and then, depict the features. We create df_description dataframe with columns feature and description"
   ]
  },
  {
   "cell_type": "code",
   "execution_count": 2,
   "id": "f47ac215",
   "metadata": {
    "execution": {
     "iopub.execute_input": "2024-11-05T12:45:21.785153Z",
     "iopub.status.busy": "2024-11-05T12:45:21.784585Z",
     "iopub.status.idle": "2024-11-05T12:45:21.939087Z",
     "shell.execute_reply": "2024-11-05T12:45:21.937825Z"
    },
    "papermill": {
     "duration": 0.171076,
     "end_time": "2024-11-05T12:45:21.942027",
     "exception": false,
     "start_time": "2024-11-05T12:45:21.770951",
     "status": "completed"
    },
    "tags": []
   },
   "outputs": [
    {
     "data": {
      "text/html": [
       "<div>\n",
       "<style scoped>\n",
       "    .dataframe tbody tr th:only-of-type {\n",
       "        vertical-align: middle;\n",
       "    }\n",
       "\n",
       "    .dataframe tbody tr th {\n",
       "        vertical-align: top;\n",
       "    }\n",
       "\n",
       "    .dataframe thead th {\n",
       "        text-align: right;\n",
       "    }\n",
       "</style>\n",
       "<table border=\"1\" class=\"dataframe\">\n",
       "  <thead>\n",
       "    <tr style=\"text-align: right;\">\n",
       "      <th></th>\n",
       "      <th>Feature</th>\n",
       "      <th>Description</th>\n",
       "    </tr>\n",
       "  </thead>\n",
       "  <tbody>\n",
       "    <tr>\n",
       "      <th>0</th>\n",
       "      <td>Rk</td>\n",
       "      <td>Rank</td>\n",
       "    </tr>\n",
       "    <tr>\n",
       "      <th>1</th>\n",
       "      <td>Player</td>\n",
       "      <td>Player's name</td>\n",
       "    </tr>\n",
       "    <tr>\n",
       "      <th>2</th>\n",
       "      <td>Nation</td>\n",
       "      <td>Player's nation</td>\n",
       "    </tr>\n",
       "    <tr>\n",
       "      <th>3</th>\n",
       "      <td>Pos</td>\n",
       "      <td>Position</td>\n",
       "    </tr>\n",
       "    <tr>\n",
       "      <th>4</th>\n",
       "      <td>Squad</td>\n",
       "      <td>Squad’s name</td>\n",
       "    </tr>\n",
       "  </tbody>\n",
       "</table>\n",
       "</div>"
      ],
      "text/plain": [
       "  Feature      Description\n",
       "0      Rk             Rank\n",
       "1  Player    Player's name\n",
       "2  Nation  Player's nation\n",
       "3     Pos         Position\n",
       "4   Squad     Squad’s name"
      ]
     },
     "execution_count": 2,
     "metadata": {},
     "output_type": "execute_result"
    }
   ],
   "source": [
    "df = pd.read_csv('/kaggle/input/20222023-football-player-stats/2022-2023 Football Player Stats.csv', encoding='latin1', sep=';')\n",
    "\n",
    "# We create here a dictionary based on the explanation of each feature from the dataset creator\n",
    "feature_descriptions = {\n",
    "    \"Rk\": \"Rank\",\n",
    "    \"Player\": \"Player's name\",\n",
    "    \"Nation\": \"Player's nation\",\n",
    "    \"Pos\": \"Position\",\n",
    "    \"Squad\": \"Squad’s name\",\n",
    "    \"Comp\": \"League that squad occupies\",\n",
    "    \"Age\": \"Player's age\",\n",
    "    \"Born\": \"Year of birth\",\n",
    "    \"MP\": \"Matches played\",\n",
    "    \"Starts\": \"Matches started\",\n",
    "    \"Min\": \"Minutes played\",\n",
    "    \"90s\": \"Minutes played divided by 90\",\n",
    "    \"Goals\": \"Goals scored or allowed\",\n",
    "    \"Shots\": \"Shots total (Does not include penalty kicks)\",\n",
    "    \"SoT\": \"Shots on target (Does not include penalty kicks)\",\n",
    "    \"SoT%\": \"Shots on target percentage (Does not include penalty kicks)\",\n",
    "    \"G/Sh\": \"Goals per shot\",\n",
    "    \"G/SoT\": \"Goals per shot on target (Does not include penalty kicks)\",\n",
    "    \"ShoDist\": \"Average distance, in yards, from goal of all shots taken (Does not include penalty kicks)\",\n",
    "    \"ShoFK\": \"Shots from free kicks\",\n",
    "    \"ShoPK\": \"Penalty kicks made\",\n",
    "    \"PKatt\": \"Penalty kicks attempted\",\n",
    "    \"PasTotCmp\": \"Passes completed\",\n",
    "    \"PasTotAtt\": \"Passes attempted\",\n",
    "    \"PasTotCmp%\": \"Pass completion percentage\",\n",
    "    \"PasTotDist\": \"Total distance, in yards, that completed passes have traveled in any direction\",\n",
    "    \"PasTotPrgDist\": \"Total distance, in yards, that completed passes have traveled towards the opponent's goal\",\n",
    "    \"PasShoCmp\": \"Passes completed (Passes between 5 and 15 yards)\",\n",
    "    \"PasShoAtt\": \"Passes attempted (Passes between 5 and 15 yards)\",\n",
    "    \"PasShoCmp%\": \"Pass completion percentage (Passes between 5 and 15 yards)\",\n",
    "    \"PasMedCmp\": \"Passes completed (Passes between 15 and 30 yards)\",\n",
    "    \"PasMedAtt\": \"Passes attempted (Passes between 15 and 30 yards)\",\n",
    "    \"PasMedCmp%\": \"Pass completion percentage (Passes between 15 and 30 yards)\",\n",
    "    \"PasLonCmp\": \"Passes completed (Passes longer than 30 yards)\",\n",
    "    \"PasLonAtt\": \"Passes attempted (Passes longer than 30 yards)\",\n",
    "    \"PasLonCmp%\": \"Pass completion percentage (Passes longer than 30 yards)\",\n",
    "    \"Assists\": \"Assists\",\n",
    "    \"PasAss\": \"Passes that directly lead to a shot (assisted shots)\",\n",
    "    \"Pas3rd\": \"Completed passes that enter the 1/3 of the pitch closest to the goal\",\n",
    "    \"PPA\": \"Completed passes into the 18-yard box\",\n",
    "    \"CrsPA\": \"Completed crosses into the 18-yard box\",\n",
    "    \"PasProg\": \"Completed passes that move the ball towards the opponent's goal at least 10 yards from its furthest point in the last six passes, or any completed pass into the penalty area\",\n",
    "    \"PasAtt\": \"Passes attempted\",\n",
    "    \"PasLive\": \"Live-ball passes\",\n",
    "    \"PasDead\": \"Dead-ball passes\",\n",
    "    \"PasFK\": \"Passes attempted from free kicks\",\n",
    "    \"TB\": \"Completed pass sent between back defenders into open space\",\n",
    "    \"Sw\": \"Passes that travel more than 40 yards of the width of the pitch\",\n",
    "    \"PasCrs\": \"Crosses\",\n",
    "    \"TI\": \"Throw-Ins taken\",\n",
    "    \"CK\": \"Corner kicks\",\n",
    "    \"CkIn\": \"Inswinging corner kicks\",\n",
    "    \"CkOut\": \"Outswinging corner kicks\",\n",
    "    \"CkStr\": \"Straight corner kicks\",\n",
    "    \"PasCmp\": \"Passes completed\",\n",
    "    \"PasOff\": \"Offsides\",\n",
    "    \"PasBlocks\": \"Blocked by the opponent who was standing it the path\",\n",
    "    \"SCA\": \"Shot-creating actions\",\n",
    "    \"ScaPassLive\": \"Completed live-ball passes that lead to a shot attempt\",\n",
    "    \"ScaPassDead\": \"Completed dead-ball passes that lead to a shot attempt\",\n",
    "    \"ScaDrib\": \"Successful dribbles that lead to a shot attempt\",\n",
    "    \"ScaSh\": \"Shots that lead to another shot attempt\",\n",
    "    \"ScaFld\": \"Fouls drawn that lead to a shot attempt\",\n",
    "    \"ScaDef\": \"Defensive actions that lead to a shot attempt\",\n",
    "    \"GCA\": \"Goal-creating actions\",\n",
    "    \"GcaPassLive\": \"Completed live-ball passes that lead to a goal\",\n",
    "    \"GcaPassDead\": \"Completed dead-ball passes that lead to a goal\",\n",
    "    \"GcaDrib\": \"Successful dribbles that lead to a goal\",\n",
    "    \"GcaSh\": \"Shots that lead to another goal-scoring shot\",\n",
    "    \"GcaFld\": \"Fouls drawn that lead to a goal\",\n",
    "    \"GcaDef\": \"Defensive actions that lead to a goal\",\n",
    "    \"Tkl\": \"Number of players tackled\",\n",
    "    \"TklWon\": \"Tackles in which the tackler's team won possession of the ball\",\n",
    "    \"TklDef3rd\": \"Tackles in defensive 1/3\",\n",
    "    \"TklMid3rd\": \"Tackles in middle 1/3\",\n",
    "    \"TklAtt3rd\": \"Tackles in attacking 1/3\",\n",
    "    \"TklDri\": \"Number of dribblers tackled\",\n",
    "    \"TklDriAtt\": \"Number of times dribbled past plus number of tackles\",\n",
    "    \"TklDri%\": \"Percentage of dribblers tackled\",\n",
    "    \"TklDriPast\": \"Number of times dribbled past by an opposing player\",\n",
    "    \"Blocks\": \"Number of times blocking the ball by standing in its path\",\n",
    "    \"BlkSh\": \"Number of times blocking a shot by standing in its path\",\n",
    "    \"BlkPass\": \"Number of times blocking a pass by standing in its path\",\n",
    "    \"Int\": \"Interceptions\",\n",
    "    \"Tkl+Int\": \"Number of players tackled plus number of interceptions\",\n",
    "    \"Clr\": \"Clearances\",\n",
    "    \"Err\": \"Mistakes leading to an opponent's shot\",\n",
    "    \"Touches\": \"Number of times a player touched the ball. Note: Receiving a pass, then dribbling, then sending a pass counts as one touch\",\n",
    "    \"TouDefPen\": \"Touches in defensive penalty area\",\n",
    "    \"TouDef3rd\": \"Touches in defensive 1/3\",\n",
    "    \"TouMid3rd\": \"Touches in middle 1/3\",\n",
    "    \"TouAtt3rd\": \"Touches in attacking 1/3\",\n",
    "    \"TouAttPen\": \"Touches in attacking penalty area\",\n",
    "    \"TouLive\": \"Live-ball touches. Does not include corner kicks, free kicks, throw-ins, kick-offs, goal kicks or penalty kicks\",\n",
    "    \"ToAtt\": \"Number of attempts to take on defenders while dribbling\",\n",
    "    \"ToSuc\": \"Number of defenders taken on successfully, by dribbling past them\",\n",
    "    \"ToSuc%\": \"Percentage of take-ons Completed Successfully\",\n",
    "    \"ToTkl\": \"Number of times tackled by a defender during a take-on attempt\",\n",
    "    \"ToTkl%\": \"Percentage of time tackled by a defender during a take-on attempt\",\n",
    "    \"Carries\": \"Number of times the player controlled the ball with their feet\",\n",
    "    \"CarTotDist\": \"Total distance, in yards, a player moved the ball while controlling it with their feet, in any direction\",\n",
    "    \"CarPrgDist\": \"Total distance, in yards, a player moved the ball while controlling it with their feet towards the opponent's goal\",\n",
    "    \"CarProg\": \"Carries that move the ball towards the opponent's goal at least 5 yards, or any carry into the penalty area\",\n",
    "    \"Car3rd\": \"Carries that enter the 1/3 of the pitch closest to the goal\",\n",
    "    \"CPA\": \"Carries into the 18-yard box\",\n",
    "    \"CarMis\": \"Number of times a player failed when attempting to gain control of a ball\",\n",
    "    \"CarDis\": \"Number of times a player loses control of the ball after being tackled by an opposing player\",\n",
    "    \"Rec\": \"Number of times a player successfully received a pass\",\n",
    "    \"RecProg\": \"Completed passes that move the ball towards the opponent's goal at least 10 yards from its furthest point in the last six passes, or any completed pass into the penalty area\",\n",
    "    \"CrdY\": \"Yellow cards\",\n",
    "    \"CrdR\": \"Red cards\",\n",
    "    \"2CrdY\": \"Second yellow card\",\n",
    "    \"Fls\": \"Fouls committed\",\n",
    "    \"Fld\": \"Fouls drawn\",\n",
    "    \"Off\": \"Offsides\",\n",
    "    \"Crs\": \"Crosses\",\n",
    "    \"TklW\": \"Tackles in which the tackler's team won possession of the ball\",\n",
    "    \"PKwon\": \"Penalty kicks won\",\n",
    "    \"PKcon\": \"Penalty kicks conceded\",\n",
    "    \"OG\": \"Own goals\",\n",
    "    \"Recov\": \"Number of loose balls recovered\",\n",
    "    \"AerWon\": \"Aerials won\",\n",
    "    \"AerLost\": \"Aerials lost\",\n",
    "    \"AerWon%\": \"Percentage of aerials won\"\n",
    "}\n",
    "\n",
    "# We create a new Dataframe to add these descriptions\n",
    "df_description = pd.DataFrame(list(feature_descriptions.items()), columns=['Feature', 'Description'])\n",
    "df_description.head(5)"
   ]
  },
  {
   "cell_type": "markdown",
   "id": "4a259526",
   "metadata": {
    "papermill": {
     "duration": 0.012963,
     "end_time": "2024-11-05T12:45:21.967456",
     "exception": false,
     "start_time": "2024-11-05T12:45:21.954493",
     "status": "completed"
    },
    "tags": []
   },
   "source": [
    "# **Load data from transfermarkt**"
   ]
  },
  {
   "cell_type": "markdown",
   "id": "c844e01a",
   "metadata": {
    "papermill": {
     "duration": 0.011446,
     "end_time": "2024-11-05T12:45:21.990841",
     "exception": false,
     "start_time": "2024-11-05T12:45:21.979395",
     "status": "completed"
    },
    "tags": []
   },
   "source": [
    "We load players from transfermarkt dataset, for our target of give market value to our result players"
   ]
  },
  {
   "cell_type": "code",
   "execution_count": 3,
   "id": "a029e122",
   "metadata": {
    "execution": {
     "iopub.execute_input": "2024-11-05T12:45:22.016423Z",
     "iopub.status.busy": "2024-11-05T12:45:22.015946Z",
     "iopub.status.idle": "2024-11-05T12:45:22.594122Z",
     "shell.execute_reply": "2024-11-05T12:45:22.592909Z"
    },
    "papermill": {
     "duration": 0.594188,
     "end_time": "2024-11-05T12:45:22.596802",
     "exception": false,
     "start_time": "2024-11-05T12:45:22.002614",
     "status": "completed"
    },
    "tags": []
   },
   "outputs": [
    {
     "data": {
      "text/html": [
       "<div>\n",
       "<style scoped>\n",
       "    .dataframe tbody tr th:only-of-type {\n",
       "        vertical-align: middle;\n",
       "    }\n",
       "\n",
       "    .dataframe tbody tr th {\n",
       "        vertical-align: top;\n",
       "    }\n",
       "\n",
       "    .dataframe thead th {\n",
       "        text-align: right;\n",
       "    }\n",
       "</style>\n",
       "<table border=\"1\" class=\"dataframe\">\n",
       "  <thead>\n",
       "    <tr style=\"text-align: right;\">\n",
       "      <th></th>\n",
       "      <th>player_id</th>\n",
       "      <th>first_name</th>\n",
       "      <th>last_name</th>\n",
       "      <th>name</th>\n",
       "      <th>last_season</th>\n",
       "      <th>current_club_id</th>\n",
       "      <th>player_code</th>\n",
       "      <th>country_of_birth</th>\n",
       "      <th>city_of_birth</th>\n",
       "      <th>country_of_citizenship</th>\n",
       "      <th>...</th>\n",
       "      <th>foot</th>\n",
       "      <th>height_in_cm</th>\n",
       "      <th>contract_expiration_date</th>\n",
       "      <th>agent_name</th>\n",
       "      <th>image_url</th>\n",
       "      <th>url</th>\n",
       "      <th>current_club_domestic_competition_id</th>\n",
       "      <th>current_club_name</th>\n",
       "      <th>market_value_in_eur</th>\n",
       "      <th>highest_market_value_in_eur</th>\n",
       "    </tr>\n",
       "  </thead>\n",
       "  <tbody>\n",
       "    <tr>\n",
       "      <th>0</th>\n",
       "      <td>10</td>\n",
       "      <td>Miroslav</td>\n",
       "      <td>Klose</td>\n",
       "      <td>Miroslav Klose</td>\n",
       "      <td>2015</td>\n",
       "      <td>398</td>\n",
       "      <td>miroslav-klose</td>\n",
       "      <td>Poland</td>\n",
       "      <td>Opole</td>\n",
       "      <td>Germany</td>\n",
       "      <td>...</td>\n",
       "      <td>right</td>\n",
       "      <td>184.0</td>\n",
       "      <td>NaN</td>\n",
       "      <td>ASBW Sport Marketing</td>\n",
       "      <td>https://img.a.transfermarkt.technology/portrai...</td>\n",
       "      <td>https://www.transfermarkt.co.uk/miroslav-klose...</td>\n",
       "      <td>IT1</td>\n",
       "      <td>Società Sportiva Lazio S.p.A.</td>\n",
       "      <td>1000000.0</td>\n",
       "      <td>30000000.0</td>\n",
       "    </tr>\n",
       "    <tr>\n",
       "      <th>1</th>\n",
       "      <td>26</td>\n",
       "      <td>Roman</td>\n",
       "      <td>Weidenfeller</td>\n",
       "      <td>Roman Weidenfeller</td>\n",
       "      <td>2017</td>\n",
       "      <td>16</td>\n",
       "      <td>roman-weidenfeller</td>\n",
       "      <td>Germany</td>\n",
       "      <td>Diez</td>\n",
       "      <td>Germany</td>\n",
       "      <td>...</td>\n",
       "      <td>left</td>\n",
       "      <td>190.0</td>\n",
       "      <td>NaN</td>\n",
       "      <td>Neubauer 13 GmbH</td>\n",
       "      <td>https://img.a.transfermarkt.technology/portrai...</td>\n",
       "      <td>https://www.transfermarkt.co.uk/roman-weidenfe...</td>\n",
       "      <td>L1</td>\n",
       "      <td>Borussia Dortmund</td>\n",
       "      <td>750000.0</td>\n",
       "      <td>8000000.0</td>\n",
       "    </tr>\n",
       "    <tr>\n",
       "      <th>2</th>\n",
       "      <td>65</td>\n",
       "      <td>Dimitar</td>\n",
       "      <td>Berbatov</td>\n",
       "      <td>Dimitar Berbatov</td>\n",
       "      <td>2015</td>\n",
       "      <td>1091</td>\n",
       "      <td>dimitar-berbatov</td>\n",
       "      <td>Bulgaria</td>\n",
       "      <td>Blagoevgrad</td>\n",
       "      <td>Bulgaria</td>\n",
       "      <td>...</td>\n",
       "      <td>NaN</td>\n",
       "      <td>NaN</td>\n",
       "      <td>NaN</td>\n",
       "      <td>CSKA-AS-23 Ltd.</td>\n",
       "      <td>https://img.a.transfermarkt.technology/portrai...</td>\n",
       "      <td>https://www.transfermarkt.co.uk/dimitar-berbat...</td>\n",
       "      <td>GR1</td>\n",
       "      <td>Panthessalonikios Athlitikos Omilos Konstantin...</td>\n",
       "      <td>1000000.0</td>\n",
       "      <td>34500000.0</td>\n",
       "    </tr>\n",
       "    <tr>\n",
       "      <th>3</th>\n",
       "      <td>77</td>\n",
       "      <td>NaN</td>\n",
       "      <td>Lúcio</td>\n",
       "      <td>Lúcio</td>\n",
       "      <td>2012</td>\n",
       "      <td>506</td>\n",
       "      <td>lucio</td>\n",
       "      <td>Brazil</td>\n",
       "      <td>Brasília</td>\n",
       "      <td>Brazil</td>\n",
       "      <td>...</td>\n",
       "      <td>NaN</td>\n",
       "      <td>NaN</td>\n",
       "      <td>NaN</td>\n",
       "      <td>NaN</td>\n",
       "      <td>https://img.a.transfermarkt.technology/portrai...</td>\n",
       "      <td>https://www.transfermarkt.co.uk/lucio/profil/s...</td>\n",
       "      <td>IT1</td>\n",
       "      <td>Juventus Football Club</td>\n",
       "      <td>200000.0</td>\n",
       "      <td>24500000.0</td>\n",
       "    </tr>\n",
       "    <tr>\n",
       "      <th>4</th>\n",
       "      <td>80</td>\n",
       "      <td>Tom</td>\n",
       "      <td>Starke</td>\n",
       "      <td>Tom Starke</td>\n",
       "      <td>2017</td>\n",
       "      <td>27</td>\n",
       "      <td>tom-starke</td>\n",
       "      <td>East Germany (GDR)</td>\n",
       "      <td>Freital</td>\n",
       "      <td>Germany</td>\n",
       "      <td>...</td>\n",
       "      <td>right</td>\n",
       "      <td>194.0</td>\n",
       "      <td>NaN</td>\n",
       "      <td>IFM</td>\n",
       "      <td>https://img.a.transfermarkt.technology/portrai...</td>\n",
       "      <td>https://www.transfermarkt.co.uk/tom-starke/pro...</td>\n",
       "      <td>L1</td>\n",
       "      <td>FC Bayern München</td>\n",
       "      <td>100000.0</td>\n",
       "      <td>3000000.0</td>\n",
       "    </tr>\n",
       "  </tbody>\n",
       "</table>\n",
       "<p>5 rows × 23 columns</p>\n",
       "</div>"
      ],
      "text/plain": [
       "   player_id first_name     last_name                name  last_season  \\\n",
       "0         10   Miroslav         Klose      Miroslav Klose         2015   \n",
       "1         26      Roman  Weidenfeller  Roman Weidenfeller         2017   \n",
       "2         65    Dimitar      Berbatov    Dimitar Berbatov         2015   \n",
       "3         77        NaN         Lúcio               Lúcio         2012   \n",
       "4         80        Tom        Starke          Tom Starke         2017   \n",
       "\n",
       "   current_club_id         player_code    country_of_birth city_of_birth  \\\n",
       "0              398      miroslav-klose              Poland         Opole   \n",
       "1               16  roman-weidenfeller             Germany          Diez   \n",
       "2             1091    dimitar-berbatov            Bulgaria   Blagoevgrad   \n",
       "3              506               lucio              Brazil      Brasília   \n",
       "4               27          tom-starke  East Germany (GDR)       Freital   \n",
       "\n",
       "  country_of_citizenship  ...   foot height_in_cm contract_expiration_date  \\\n",
       "0                Germany  ...  right        184.0                      NaN   \n",
       "1                Germany  ...   left        190.0                      NaN   \n",
       "2               Bulgaria  ...    NaN          NaN                      NaN   \n",
       "3                 Brazil  ...    NaN          NaN                      NaN   \n",
       "4                Germany  ...  right        194.0                      NaN   \n",
       "\n",
       "             agent_name                                          image_url  \\\n",
       "0  ASBW Sport Marketing  https://img.a.transfermarkt.technology/portrai...   \n",
       "1      Neubauer 13 GmbH  https://img.a.transfermarkt.technology/portrai...   \n",
       "2       CSKA-AS-23 Ltd.  https://img.a.transfermarkt.technology/portrai...   \n",
       "3                   NaN  https://img.a.transfermarkt.technology/portrai...   \n",
       "4                   IFM  https://img.a.transfermarkt.technology/portrai...   \n",
       "\n",
       "                                                 url  \\\n",
       "0  https://www.transfermarkt.co.uk/miroslav-klose...   \n",
       "1  https://www.transfermarkt.co.uk/roman-weidenfe...   \n",
       "2  https://www.transfermarkt.co.uk/dimitar-berbat...   \n",
       "3  https://www.transfermarkt.co.uk/lucio/profil/s...   \n",
       "4  https://www.transfermarkt.co.uk/tom-starke/pro...   \n",
       "\n",
       "  current_club_domestic_competition_id  \\\n",
       "0                                  IT1   \n",
       "1                                   L1   \n",
       "2                                  GR1   \n",
       "3                                  IT1   \n",
       "4                                   L1   \n",
       "\n",
       "                                   current_club_name market_value_in_eur  \\\n",
       "0                      Società Sportiva Lazio S.p.A.           1000000.0   \n",
       "1                                  Borussia Dortmund            750000.0   \n",
       "2  Panthessalonikios Athlitikos Omilos Konstantin...           1000000.0   \n",
       "3                             Juventus Football Club            200000.0   \n",
       "4                                  FC Bayern München            100000.0   \n",
       "\n",
       "  highest_market_value_in_eur  \n",
       "0                  30000000.0  \n",
       "1                   8000000.0  \n",
       "2                  34500000.0  \n",
       "3                  24500000.0  \n",
       "4                   3000000.0  \n",
       "\n",
       "[5 rows x 23 columns]"
      ]
     },
     "execution_count": 3,
     "metadata": {},
     "output_type": "execute_result"
    }
   ],
   "source": [
    "# load data from transfermarkt datasets players\n",
    "df_tr_players = pd.read_csv('/kaggle/input/player-scores/players.csv', encoding='UTF-8', sep=',')\n",
    "df_tr_players.head(5)"
   ]
  },
  {
   "cell_type": "markdown",
   "id": "0ac3896b",
   "metadata": {
    "papermill": {
     "duration": 0.013279,
     "end_time": "2024-11-05T12:45:22.623307",
     "exception": false,
     "start_time": "2024-11-05T12:45:22.610028",
     "status": "completed"
    },
    "tags": []
   },
   "source": [
    "# **Normalize Categorical Features**"
   ]
  },
  {
   "cell_type": "markdown",
   "id": "a16f0153",
   "metadata": {
    "papermill": {
     "duration": 0.012032,
     "end_time": "2024-11-05T12:45:22.647968",
     "exception": false,
     "start_time": "2024-11-05T12:45:22.635936",
     "status": "completed"
    },
    "tags": []
   },
   "source": [
    "Transform data to improve model performance and accuracy\n",
    "\n",
    "We filter original dataset with:\n",
    "- players with more than 10 matchs in the season stats\n",
    "- players which position is MF\n",
    "\n",
    "It is a first filter based on our knowledge of football. We need the player has played at least 10 matchs and his position be midfielder"
   ]
  },
  {
   "cell_type": "code",
   "execution_count": 4,
   "id": "3201fb39",
   "metadata": {
    "execution": {
     "iopub.execute_input": "2024-11-05T12:45:22.676912Z",
     "iopub.status.busy": "2024-11-05T12:45:22.676461Z",
     "iopub.status.idle": "2024-11-05T12:45:24.087750Z",
     "shell.execute_reply": "2024-11-05T12:45:24.086267Z"
    },
    "papermill": {
     "duration": 1.430349,
     "end_time": "2024-11-05T12:45:24.090598",
     "exception": false,
     "start_time": "2024-11-05T12:45:22.660249",
     "status": "completed"
    },
    "tags": []
   },
   "outputs": [
    {
     "data": {
      "text/html": [
       "<div>\n",
       "<style scoped>\n",
       "    .dataframe tbody tr th:only-of-type {\n",
       "        vertical-align: middle;\n",
       "    }\n",
       "\n",
       "    .dataframe tbody tr th {\n",
       "        vertical-align: top;\n",
       "    }\n",
       "\n",
       "    .dataframe thead th {\n",
       "        text-align: right;\n",
       "    }\n",
       "</style>\n",
       "<table border=\"1\" class=\"dataframe\">\n",
       "  <thead>\n",
       "    <tr style=\"text-align: right;\">\n",
       "      <th></th>\n",
       "      <th>Rk</th>\n",
       "      <th>Player</th>\n",
       "      <th>Nation</th>\n",
       "      <th>Pos</th>\n",
       "      <th>Squad</th>\n",
       "      <th>Comp</th>\n",
       "      <th>Age</th>\n",
       "      <th>Born</th>\n",
       "      <th>MP</th>\n",
       "      <th>Starts</th>\n",
       "      <th>...</th>\n",
       "      <th>Off</th>\n",
       "      <th>Crs</th>\n",
       "      <th>TklW</th>\n",
       "      <th>PKwon</th>\n",
       "      <th>PKcon</th>\n",
       "      <th>OG</th>\n",
       "      <th>Recov</th>\n",
       "      <th>AerWon</th>\n",
       "      <th>AerLost</th>\n",
       "      <th>AerWon%</th>\n",
       "    </tr>\n",
       "  </thead>\n",
       "  <tbody>\n",
       "    <tr>\n",
       "      <th>3</th>\n",
       "      <td>4</td>\n",
       "      <td>294.0</td>\n",
       "      <td>23.0</td>\n",
       "      <td>0.0</td>\n",
       "      <td>46.0</td>\n",
       "      <td>2.0</td>\n",
       "      <td>22</td>\n",
       "      <td>2000</td>\n",
       "      <td>20</td>\n",
       "      <td>20</td>\n",
       "      <td>...</td>\n",
       "      <td>0.00</td>\n",
       "      <td>0.35</td>\n",
       "      <td>0.80</td>\n",
       "      <td>0.0</td>\n",
       "      <td>0.00</td>\n",
       "      <td>0.05</td>\n",
       "      <td>6.60</td>\n",
       "      <td>0.50</td>\n",
       "      <td>0.50</td>\n",
       "      <td>50.0</td>\n",
       "    </tr>\n",
       "    <tr>\n",
       "      <th>4</th>\n",
       "      <td>5</td>\n",
       "      <td>184.0</td>\n",
       "      <td>21.0</td>\n",
       "      <td>0.0</td>\n",
       "      <td>50.0</td>\n",
       "      <td>2.0</td>\n",
       "      <td>30</td>\n",
       "      <td>1993</td>\n",
       "      <td>15</td>\n",
       "      <td>15</td>\n",
       "      <td>...</td>\n",
       "      <td>0.00</td>\n",
       "      <td>0.23</td>\n",
       "      <td>2.02</td>\n",
       "      <td>0.0</td>\n",
       "      <td>0.00</td>\n",
       "      <td>0.00</td>\n",
       "      <td>6.51</td>\n",
       "      <td>0.31</td>\n",
       "      <td>0.39</td>\n",
       "      <td>44.4</td>\n",
       "    </tr>\n",
       "    <tr>\n",
       "      <th>15</th>\n",
       "      <td>16</td>\n",
       "      <td>336.0</td>\n",
       "      <td>52.0</td>\n",
       "      <td>0.0</td>\n",
       "      <td>44.0</td>\n",
       "      <td>3.0</td>\n",
       "      <td>23</td>\n",
       "      <td>1999</td>\n",
       "      <td>19</td>\n",
       "      <td>19</td>\n",
       "      <td>...</td>\n",
       "      <td>0.05</td>\n",
       "      <td>0.11</td>\n",
       "      <td>2.00</td>\n",
       "      <td>0.0</td>\n",
       "      <td>0.00</td>\n",
       "      <td>0.00</td>\n",
       "      <td>8.68</td>\n",
       "      <td>0.89</td>\n",
       "      <td>0.63</td>\n",
       "      <td>58.6</td>\n",
       "    </tr>\n",
       "    <tr>\n",
       "      <th>27</th>\n",
       "      <td>28</td>\n",
       "      <td>358.0</td>\n",
       "      <td>20.0</td>\n",
       "      <td>0.0</td>\n",
       "      <td>92.0</td>\n",
       "      <td>1.0</td>\n",
       "      <td>26</td>\n",
       "      <td>1996</td>\n",
       "      <td>19</td>\n",
       "      <td>12</td>\n",
       "      <td>...</td>\n",
       "      <td>0.00</td>\n",
       "      <td>2.22</td>\n",
       "      <td>0.48</td>\n",
       "      <td>0.0</td>\n",
       "      <td>0.08</td>\n",
       "      <td>0.00</td>\n",
       "      <td>5.71</td>\n",
       "      <td>0.95</td>\n",
       "      <td>1.03</td>\n",
       "      <td>48.0</td>\n",
       "    </tr>\n",
       "    <tr>\n",
       "      <th>32</th>\n",
       "      <td>33</td>\n",
       "      <td>249.0</td>\n",
       "      <td>21.0</td>\n",
       "      <td>0.0</td>\n",
       "      <td>84.0</td>\n",
       "      <td>0.0</td>\n",
       "      <td>20</td>\n",
       "      <td>2002</td>\n",
       "      <td>17</td>\n",
       "      <td>17</td>\n",
       "      <td>...</td>\n",
       "      <td>0.06</td>\n",
       "      <td>0.39</td>\n",
       "      <td>0.71</td>\n",
       "      <td>0.0</td>\n",
       "      <td>0.06</td>\n",
       "      <td>0.00</td>\n",
       "      <td>5.68</td>\n",
       "      <td>0.45</td>\n",
       "      <td>1.03</td>\n",
       "      <td>30.4</td>\n",
       "    </tr>\n",
       "  </tbody>\n",
       "</table>\n",
       "<p>5 rows × 124 columns</p>\n",
       "</div>"
      ],
      "text/plain": [
       "    Rk  Player  Nation  Pos  Squad  Comp  Age  Born  MP  Starts  ...   Off  \\\n",
       "3    4   294.0    23.0  0.0   46.0   2.0   22  2000  20      20  ...  0.00   \n",
       "4    5   184.0    21.0  0.0   50.0   2.0   30  1993  15      15  ...  0.00   \n",
       "15  16   336.0    52.0  0.0   44.0   3.0   23  1999  19      19  ...  0.05   \n",
       "27  28   358.0    20.0  0.0   92.0   1.0   26  1996  19      12  ...  0.00   \n",
       "32  33   249.0    21.0  0.0   84.0   0.0   20  2002  17      17  ...  0.06   \n",
       "\n",
       "     Crs  TklW  PKwon  PKcon    OG  Recov  AerWon  AerLost  AerWon%  \n",
       "3   0.35  0.80    0.0   0.00  0.05   6.60    0.50     0.50     50.0  \n",
       "4   0.23  2.02    0.0   0.00  0.00   6.51    0.31     0.39     44.4  \n",
       "15  0.11  2.00    0.0   0.00  0.00   8.68    0.89     0.63     58.6  \n",
       "27  2.22  0.48    0.0   0.08  0.00   5.71    0.95     1.03     48.0  \n",
       "32  0.39  0.71    0.0   0.06  0.00   5.68    0.45     1.03     30.4  \n",
       "\n",
       "[5 rows x 124 columns]"
      ]
     },
     "execution_count": 4,
     "metadata": {},
     "output_type": "execute_result"
    }
   ],
   "source": [
    "# We normalize the data\n",
    "from sklearn.preprocessing import MinMaxScaler, OrdinalEncoder\n",
    "\n",
    "# Filters by player preferences of dataframe season stats\n",
    "df = df.loc[df['MP'] > 10] # players with more than 10 matchs in the season stats\n",
    "df = df.loc[df['Pos'] == 'MF'] # players which position is MF\n",
    "\n",
    "copy_df_initial = df.copy()\n",
    "numeric_features = [feature for feature in feature_descriptions.keys() if pd.api.types.is_numeric_dtype(df[feature])]\n",
    "categorical_features = [feature for feature in feature_descriptions.keys() if not pd.api.types.is_numeric_dtype(df[feature])]\n",
    "\n",
    "encoder = OrdinalEncoder()\n",
    "df[categorical_features] = encoder.fit_transform(df[categorical_features])\n",
    "\n",
    "scaler = MinMaxScaler()\n",
    "\n",
    "df_normalized_rf = df.copy()\n",
    "df_normalized_cusine = df.copy()\n",
    "df_normalized_cusine.head(5)"
   ]
  },
  {
   "cell_type": "markdown",
   "id": "19fea9e9",
   "metadata": {
    "papermill": {
     "duration": 0.012782,
     "end_time": "2024-11-05T12:45:24.116831",
     "exception": false,
     "start_time": "2024-11-05T12:45:24.104049",
     "status": "completed"
    },
    "tags": []
   },
   "source": [
    "# **Cosine Similarity**"
   ]
  },
  {
   "cell_type": "markdown",
   "id": "606dcac4",
   "metadata": {
    "papermill": {
     "duration": 0.012193,
     "end_time": "2024-11-05T12:45:24.142177",
     "exception": false,
     "start_time": "2024-11-05T12:45:24.129984",
     "status": "completed"
    },
    "tags": []
   },
   "source": [
    "Here we try to adjust features we are looking. We based on Toni Kroos key features for Passing and Game Vision. In our example, we are looking a replacement for Toni Kroos, but we can change this replacement for any other player\n",
    "\n",
    "First we normalize non-categorical features"
   ]
  },
  {
   "cell_type": "code",
   "execution_count": 5,
   "id": "de29fefa",
   "metadata": {
    "execution": {
     "iopub.execute_input": "2024-11-05T12:45:24.169300Z",
     "iopub.status.busy": "2024-11-05T12:45:24.168704Z",
     "iopub.status.idle": "2024-11-05T12:45:24.572533Z",
     "shell.execute_reply": "2024-11-05T12:45:24.571165Z"
    },
    "papermill": {
     "duration": 0.420601,
     "end_time": "2024-11-05T12:45:24.575306",
     "exception": false,
     "start_time": "2024-11-05T12:45:24.154705",
     "status": "completed"
    },
    "tags": []
   },
   "outputs": [
    {
     "name": "stdout",
     "output_type": "stream",
     "text": [
      "124 features have been normalized !\n"
     ]
    }
   ],
   "source": [
    "cpt = 0\n",
    "for feature in feature_descriptions.keys():\n",
    "    if feature in df.columns:\n",
    "        df_normalized_cusine[feature] = scaler.fit_transform(df[[feature]])\n",
    "        cpt += 1\n",
    "print(\"{} features have been normalized !\".format(cpt))\n"
   ]
  },
  {
   "cell_type": "markdown",
   "id": "54d06695",
   "metadata": {
    "papermill": {
     "duration": 0.012795,
     "end_time": "2024-11-05T12:45:24.601052",
     "exception": false,
     "start_time": "2024-11-05T12:45:24.588257",
     "status": "completed"
    },
    "tags": []
   },
   "source": [
    "Apply cosine_similarity with relevant attributes and show transfermarkt value:\n",
    "\n",
    "**Cosine similarity is a powerful tool for measuring similarity in various contexts, including evaluating player characteristics in sports analytics. By comparing players based on their performance metrics, you can gain insights into potential player recommendations or scouting opportunities.**\n",
    "\n",
    "Cosine Similarity is a metric that measures the similarity between two vectors based on the angle between them. It is commonly used in text problems or where data can be represented as vectors in a high-dimensional space (e.g., natural language processing, recommender systems)."
   ]
  },
  {
   "cell_type": "code",
   "execution_count": 6,
   "id": "65514df8",
   "metadata": {
    "execution": {
     "iopub.execute_input": "2024-11-05T12:45:24.628277Z",
     "iopub.status.busy": "2024-11-05T12:45:24.627831Z",
     "iopub.status.idle": "2024-11-05T12:45:24.913223Z",
     "shell.execute_reply": "2024-11-05T12:45:24.911354Z"
    },
    "papermill": {
     "duration": 0.305864,
     "end_time": "2024-11-05T12:45:24.919752",
     "exception": false,
     "start_time": "2024-11-05T12:45:24.613888",
     "status": "completed"
    },
    "tags": []
   },
   "outputs": [
    {
     "name": "stdout",
     "output_type": "stream",
     "text": [
      "Player\n",
      "Corentin Tolisso    0.986522\n",
      "Rodri               0.980046\n",
      "Jordan Henderson    0.979380\n",
      "Daniel Parejo       0.976247\n",
      "Thomas Partey       0.975827\n",
      "Joshua Kimmich      0.974838\n",
      "Téji Savanier       0.973642\n",
      "Mateo Kova?i?       0.973008\n",
      "André Gomes         0.970764\n",
      "Maxime Lopez        0.970640\n",
      "Name: Toni Kroos, dtype: float64\n"
     ]
    },
    {
     "data": {
      "text/html": [
       "<div>\n",
       "<style scoped>\n",
       "    .dataframe tbody tr th:only-of-type {\n",
       "        vertical-align: middle;\n",
       "    }\n",
       "\n",
       "    .dataframe tbody tr th {\n",
       "        vertical-align: top;\n",
       "    }\n",
       "\n",
       "    .dataframe thead th {\n",
       "        text-align: right;\n",
       "    }\n",
       "</style>\n",
       "<table border=\"1\" class=\"dataframe\">\n",
       "  <thead>\n",
       "    <tr style=\"text-align: right;\">\n",
       "      <th></th>\n",
       "      <th>name</th>\n",
       "      <th>Squad</th>\n",
       "      <th>Age</th>\n",
       "      <th>market_value_in_eur</th>\n",
       "    </tr>\n",
       "  </thead>\n",
       "  <tbody>\n",
       "    <tr>\n",
       "      <th>0</th>\n",
       "      <td>Rodri</td>\n",
       "      <td>Manchester City</td>\n",
       "      <td>26</td>\n",
       "      <td>0.25</td>\n",
       "    </tr>\n",
       "    <tr>\n",
       "      <th>1</th>\n",
       "      <td>Jordan Henderson</td>\n",
       "      <td>Liverpool</td>\n",
       "      <td>32</td>\n",
       "      <td>4.00</td>\n",
       "    </tr>\n",
       "    <tr>\n",
       "      <th>2</th>\n",
       "      <td>Téji Savanier</td>\n",
       "      <td>Montpellier</td>\n",
       "      <td>31</td>\n",
       "      <td>7.00</td>\n",
       "    </tr>\n",
       "    <tr>\n",
       "      <th>3</th>\n",
       "      <td>Joshua Kimmich</td>\n",
       "      <td>Bayern Munich</td>\n",
       "      <td>28</td>\n",
       "      <td>50.00</td>\n",
       "    </tr>\n",
       "    <tr>\n",
       "      <th>4</th>\n",
       "      <td>Corentin Tolisso</td>\n",
       "      <td>Lyon</td>\n",
       "      <td>28</td>\n",
       "      <td>5.00</td>\n",
       "    </tr>\n",
       "    <tr>\n",
       "      <th>5</th>\n",
       "      <td>André Gomes</td>\n",
       "      <td>Lille</td>\n",
       "      <td>29</td>\n",
       "      <td>10.00</td>\n",
       "    </tr>\n",
       "    <tr>\n",
       "      <th>6</th>\n",
       "      <td>Thomas Partey</td>\n",
       "      <td>Arsenal</td>\n",
       "      <td>29</td>\n",
       "      <td>18.00</td>\n",
       "    </tr>\n",
       "    <tr>\n",
       "      <th>7</th>\n",
       "      <td>Rodri</td>\n",
       "      <td>Manchester City</td>\n",
       "      <td>26</td>\n",
       "      <td>130.00</td>\n",
       "    </tr>\n",
       "    <tr>\n",
       "      <th>8</th>\n",
       "      <td>André Gomes</td>\n",
       "      <td>Lille</td>\n",
       "      <td>29</td>\n",
       "      <td>2.00</td>\n",
       "    </tr>\n",
       "  </tbody>\n",
       "</table>\n",
       "</div>"
      ],
      "text/plain": [
       "               name            Squad  Age  market_value_in_eur\n",
       "0             Rodri  Manchester City   26                 0.25\n",
       "1  Jordan Henderson        Liverpool   32                 4.00\n",
       "2     Téji Savanier      Montpellier   31                 7.00\n",
       "3    Joshua Kimmich    Bayern Munich   28                50.00\n",
       "4  Corentin Tolisso             Lyon   28                 5.00\n",
       "5       André Gomes            Lille   29                10.00\n",
       "6     Thomas Partey          Arsenal   29                18.00\n",
       "7             Rodri  Manchester City   26               130.00\n",
       "8       André Gomes            Lille   29                 2.00"
      ]
     },
     "execution_count": 6,
     "metadata": {},
     "output_type": "execute_result"
    }
   ],
   "source": [
    "from sklearn.metrics.pairwise import cosine_similarity\n",
    "from sklearn.preprocessing import StandardScaler\n",
    "import warnings\n",
    "warnings.filterwarnings('ignore')\n",
    "\n",
    "# Select relevant columns for similarity calculation\n",
    "attributes = [\n",
    "    'PasTotCmp%', 'PasTotDist', 'PasTotPrgDist', 'PasMedCmp%', 'PasLonCmp%', 'PasProg',\n",
    "    'PasAss', 'SCA', 'GCA', 'Touches', 'TouMid3rd', 'TouAtt3rd', 'Carries',\n",
    "    'CarTotDist', 'CarPrgDist', 'CarProg', 'Tkl', 'Int', 'TklDri', 'TklDef3rd', 'Blocks'\n",
    "]\n",
    "\n",
    "# Filter the DataFrame to include only the relevant attributes\n",
    "df_attributes = df_normalized_cusine[attributes]\n",
    "\n",
    "# Compute cosine similarity\n",
    "similarity_matrix = cosine_similarity(df_attributes)\n",
    "\n",
    "# add to df original columns for better understanding of future result\n",
    "df_normalized_cusine.loc[:, 'Player'] = copy_df_initial['Player']\n",
    "df_normalized_cusine.loc[:, 'Squad'] = copy_df_initial['Squad']\n",
    "df_normalized_cusine.loc[:, 'Age'] = copy_df_initial['Age']\n",
    "\n",
    "# Convert the similarity matrix into a DataFrame for easier interpretation\n",
    "similarity_df = pd.DataFrame(similarity_matrix, index=df_normalized_cusine['Player'], columns=df_normalized_cusine['Player'])\n",
    "\n",
    "# Identify the top similar players to a specific player (e.g., Toni Kroos)\n",
    "target_player = 'Toni Kroos'  # Replace with the exact name in your dataset\n",
    "similar_players = similarity_df[target_player].sort_values(ascending=False).drop(target_player)\n",
    "similar_players = similar_players.head(10)\n",
    "print(similar_players)\n",
    "\n",
    "initial_df_similar_players = copy_df_initial[copy_df_initial['Player'].isin(similar_players.index)] # Display the top 5 most similar players to Toni Kroos\n",
    "\n",
    "df_top_similar = pd.merge(df_tr_players, initial_df_similar_players, left_on='name', right_on='Player', how='inner')\n",
    "\n",
    "df_top_similar['market_value_in_eur'] = df_top_similar['market_value_in_eur'] / 1_000_000\n",
    "df_top_similar = df_top_similar[['name', 'Squad', 'Age', 'market_value_in_eur']]\n",
    "df_top_similar\n",
    "\n",
    "# note: it is possible that could be some player not appearing in df_top_similar appearing before in similar_players as it can be lossed in merge with transfermark dataframe"
   ]
  },
  {
   "cell_type": "markdown",
   "id": "7887a482",
   "metadata": {
    "papermill": {
     "duration": 0.012987,
     "end_time": "2024-11-05T12:45:24.957634",
     "exception": false,
     "start_time": "2024-11-05T12:45:24.944647",
     "status": "completed"
    },
    "tags": []
   },
   "source": [
    "# **Random Forest Model**"
   ]
  },
  {
   "cell_type": "markdown",
   "id": "9684dc98",
   "metadata": {
    "papermill": {
     "duration": 0.013342,
     "end_time": "2024-11-05T12:45:24.984178",
     "exception": false,
     "start_time": "2024-11-05T12:45:24.970836",
     "status": "completed"
    },
    "tags": []
   },
   "source": [
    "**Add param: Suitable for team**"
   ]
  },
  {
   "cell_type": "markdown",
   "id": "8695b83e",
   "metadata": {
    "papermill": {
     "duration": 0.012809,
     "end_time": "2024-11-05T12:45:25.010161",
     "exception": false,
     "start_time": "2024-11-05T12:45:24.997352",
     "status": "completed"
    },
    "tags": []
   },
   "source": [
    "First we normalize non-categorical data adding suitable_for_team key feature, based on own knowledge on football\n",
    "\n",
    "Here we have gained features values based on Toni Kroos from 'football-player-stats' dataset"
   ]
  },
  {
   "cell_type": "code",
   "execution_count": 7,
   "id": "0603974e",
   "metadata": {
    "execution": {
     "iopub.execute_input": "2024-11-05T12:45:25.038288Z",
     "iopub.status.busy": "2024-11-05T12:45:25.037777Z",
     "iopub.status.idle": "2024-11-05T12:45:25.458405Z",
     "shell.execute_reply": "2024-11-05T12:45:25.456903Z"
    },
    "papermill": {
     "duration": 0.437827,
     "end_time": "2024-11-05T12:45:25.461107",
     "exception": false,
     "start_time": "2024-11-05T12:45:25.023280",
     "status": "completed"
    },
    "tags": []
   },
   "outputs": [
    {
     "name": "stdout",
     "output_type": "stream",
     "text": [
      "124 features have been normalized !\n"
     ]
    }
   ],
   "source": [
    "df_normalized_rf['suitable_for_team'] = (\n",
    "    # Pass\n",
    "    (df_normalized_rf['PasTotCmp%'] > 60) & #Pass completion percentage\n",
    "    (df_normalized_rf['PasTotDist'] > 1000) & #Total distance, in yards, that completed passes have traveled in any direction\n",
    "    (df_normalized_rf['PasTotPrgDist'] > 300) & #Total distance, in yards, that completed passes have traveled towards the opponent's goal\n",
    "    (df_normalized_rf['PasMedCmp%'] > 90) & #Pass completion percentage (Passes between 15 and 30 yards)\n",
    "    (df_normalized_rf['PasLonCmp%'] > 5) & #Pass completion percentage (Passes longer than 30 yards)\n",
    "    (df_normalized_rf['PasProg'] > 8) & #Completed passes that move the ball towards the opponent's goal at least 10 yards from its furthest point in the last six passes, or any completed pass into the penalty area\n",
    "    # Vision\n",
    "    (df_normalized_rf['PasAss'] > 2) & #Passes that directly lead to a shot (assisted shots)\n",
    "    (df_normalized_rf['SCA'] > 4) & #Shot-creating actions\n",
    "    (df_normalized_rf['GCA'] > 0.2) #Goal-creating actions\n",
    " ).astype(int)\n",
    "\n",
    "cpt = 0\n",
    "for feature in feature_descriptions.keys():\n",
    "    if feature in df.columns:\n",
    "        df_normalized_rf[feature] = scaler.fit_transform(df[[feature]])\n",
    "        cpt += 1\n",
    "print(\"{} features have been normalized !\".format(cpt))"
   ]
  },
  {
   "cell_type": "markdown",
   "id": "1c5926a0",
   "metadata": {
    "papermill": {
     "duration": 0.013637,
     "end_time": "2024-11-05T12:45:25.488254",
     "exception": false,
     "start_time": "2024-11-05T12:45:25.474617",
     "status": "completed"
    },
    "tags": []
   },
   "source": [
    "Here we use RandomForestClassifier for predict which players can be similars to our player, based on key features\n",
    "\n",
    "Random Forest is an ensemble method based on multiple decision trees, where each tree receives a different sample from the original dataset and a random subset of features."
   ]
  },
  {
   "cell_type": "code",
   "execution_count": 8,
   "id": "27fbde9a",
   "metadata": {
    "execution": {
     "iopub.execute_input": "2024-11-05T12:45:25.518263Z",
     "iopub.status.busy": "2024-11-05T12:45:25.517778Z",
     "iopub.status.idle": "2024-11-05T12:45:27.109771Z",
     "shell.execute_reply": "2024-11-05T12:45:27.107487Z"
    },
    "papermill": {
     "duration": 1.610501,
     "end_time": "2024-11-05T12:45:27.113406",
     "exception": false,
     "start_time": "2024-11-05T12:45:25.502905",
     "status": "completed"
    },
    "tags": []
   },
   "outputs": [
    {
     "name": "stdout",
     "output_type": "stream",
     "text": [
      "              precision    recall  f1-score   support\n",
      "\n",
      "           0       1.00      1.00      1.00        73\n",
      "\n",
      "    accuracy                           1.00        73\n",
      "   macro avg       1.00      1.00      1.00        73\n",
      "weighted avg       1.00      1.00      1.00        73\n",
      "\n",
      "Accuracy: 100.00%\n"
     ]
    },
    {
     "data": {
      "image/png": "[encoded data removed]",
      "text/plain": [
       "<Figure size 1000x600 with 1 Axes>"
      ]
     },
     "metadata": {},
     "output_type": "display_data"
    }
   ],
   "source": [
    "from sklearn.model_selection import train_test_split\n",
    "from sklearn.ensemble import RandomForestClassifier\n",
    "from sklearn.metrics import accuracy_score, classification_report, confusion_matrix\n",
    "\n",
    "import matplotlib.pyplot as plt\n",
    "import seaborn as sns\n",
    "\n",
    "# select key characteristics and target\n",
    "features = ['PasTotCmp%', 'PasTotDist', 'PasTotPrgDist', 'PasMedCmp%', 'PasLonCmp%', 'PasProg', 'PasAss', 'SCA', 'GCA']\n",
    "\n",
    "X = df_normalized_rf[features]\n",
    "y = df_normalized_rf['suitable_for_team']\n",
    "\n",
    "# divide in training and test set\n",
    "X_train, X_test, y_train, y_test = train_test_split(X, y, test_size=0.2, random_state=42)\n",
    "\n",
    "# train random forest model\n",
    "model = RandomForestClassifier(random_state=42)\n",
    "model.fit(X_train, y_train)\n",
    "\n",
    "# make prediction\n",
    "y_pred = model.predict(X_test)\n",
    "\n",
    "# Evaluate model\n",
    "print(classification_report(y_test, y_pred))\n",
    "\n",
    "# Evaluate\n",
    "accuracy = accuracy_score(y_test, y_pred)\n",
    "print(f\"Accuracy: {accuracy * 100:.2f}%\")\n",
    "\n",
    "# Get feature importance\n",
    "feature_importance = pd.Series(model.feature_importances_, index=features).sort_values(ascending=False)\n",
    "\n",
    "# Plotting feature importance\n",
    "plt.figure(figsize=(10, 6))\n",
    "feature_importance.plot(kind='bar')\n",
    "plt.title(\"Feature Importance\")\n",
    "plt.ylabel(\"Importance Score\")\n",
    "plt.xlabel(\"Features\")\n",
    "plt.show()"
   ]
  },
  {
   "cell_type": "markdown",
   "id": "97c17429",
   "metadata": {
    "papermill": {
     "duration": 0.013993,
     "end_time": "2024-11-05T12:45:27.145079",
     "exception": false,
     "start_time": "2024-11-05T12:45:27.131086",
     "status": "completed"
    },
    "tags": []
   },
   "source": [
    "**We make a prediction on full dataset**"
   ]
  },
  {
   "cell_type": "code",
   "execution_count": 9,
   "id": "755a1174",
   "metadata": {
    "execution": {
     "iopub.execute_input": "2024-11-05T12:45:27.178221Z",
     "iopub.status.busy": "2024-11-05T12:45:27.177587Z",
     "iopub.status.idle": "2024-11-05T12:45:27.208468Z",
     "shell.execute_reply": "2024-11-05T12:45:27.207066Z"
    },
    "papermill": {
     "duration": 0.049627,
     "end_time": "2024-11-05T12:45:27.211247",
     "exception": false,
     "start_time": "2024-11-05T12:45:27.161620",
     "status": "completed"
    },
    "tags": []
   },
   "outputs": [
    {
     "name": "stdout",
     "output_type": "stream",
     "text": [
      "      PasTotCmp%  PasTotDist  PasTotPrgDist  PasMedCmp%  PasLonCmp%  PasProg  \\\n",
      "466     0.972399    0.726919       0.570996    0.978395       0.870  0.96063   \n",
      "1337    0.964968    1.000000       1.000000    0.977366       0.725  1.00000   \n",
      "\n",
      "        PasAss       SCA       GCA  \n",
      "466   0.616667  0.779141  0.562500  \n",
      "1337  0.597222  0.716258  0.196429  \n"
     ]
    }
   ],
   "source": [
    "# make prediction on full dataset\n",
    "df_normalized_rf['Predicted_Suitability'] = model.predict(df_normalized_rf[features])\n",
    "\n",
    "# filter recommended players\n",
    "recommended_players = df_normalized_rf[df_normalized_rf['Predicted_Suitability'] == 1]\n",
    "\n",
    "# watch only main features\n",
    "print(recommended_players[features])"
   ]
  },
  {
   "cell_type": "markdown",
   "id": "c638aab2",
   "metadata": {
    "papermill": {
     "duration": 0.014777,
     "end_time": "2024-11-05T12:45:27.240552",
     "exception": false,
     "start_time": "2024-11-05T12:45:27.225775",
     "status": "completed"
    },
    "tags": []
   },
   "source": [
    "**Extract Player and Get current value from transfermarkt**"
   ]
  },
  {
   "cell_type": "code",
   "execution_count": 10,
   "id": "c62d3c61",
   "metadata": {
    "execution": {
     "iopub.execute_input": "2024-11-05T12:45:27.272174Z",
     "iopub.status.busy": "2024-11-05T12:45:27.271725Z",
     "iopub.status.idle": "2024-11-05T12:45:27.310261Z",
     "shell.execute_reply": "2024-11-05T12:45:27.309039Z"
    },
    "papermill": {
     "duration": 0.058021,
     "end_time": "2024-11-05T12:45:27.312965",
     "exception": false,
     "start_time": "2024-11-05T12:45:27.254944",
     "status": "completed"
    },
    "tags": []
   },
   "outputs": [
    {
     "data": {
      "text/html": [
       "<div>\n",
       "<style scoped>\n",
       "    .dataframe tbody tr th:only-of-type {\n",
       "        vertical-align: middle;\n",
       "    }\n",
       "\n",
       "    .dataframe tbody tr th {\n",
       "        vertical-align: top;\n",
       "    }\n",
       "\n",
       "    .dataframe thead th {\n",
       "        text-align: right;\n",
       "    }\n",
       "</style>\n",
       "<table border=\"1\" class=\"dataframe\">\n",
       "  <thead>\n",
       "    <tr style=\"text-align: right;\">\n",
       "      <th></th>\n",
       "      <th>name</th>\n",
       "      <th>Squad</th>\n",
       "      <th>Age</th>\n",
       "      <th>market_value_in_eur</th>\n",
       "    </tr>\n",
       "  </thead>\n",
       "  <tbody>\n",
       "    <tr>\n",
       "      <th>0</th>\n",
       "      <td>Toni Kroos</td>\n",
       "      <td>Real Madrid</td>\n",
       "      <td>33.0</td>\n",
       "      <td>10.0</td>\n",
       "    </tr>\n",
       "    <tr>\n",
       "      <th>1</th>\n",
       "      <td>Dani Ceballos</td>\n",
       "      <td>Real Madrid</td>\n",
       "      <td>26.0</td>\n",
       "      <td>4.0</td>\n",
       "    </tr>\n",
       "  </tbody>\n",
       "</table>\n",
       "</div>"
      ],
      "text/plain": [
       "            name        Squad   Age  market_value_in_eur\n",
       "0     Toni Kroos  Real Madrid  33.0                 10.0\n",
       "1  Dani Ceballos  Real Madrid  26.0                  4.0"
      ]
     },
     "execution_count": 10,
     "metadata": {},
     "output_type": "execute_result"
    }
   ],
   "source": [
    "recommended_players.loc[:, 'Player'] = copy_df_initial['Player']\n",
    "recommended_players.loc[:, 'Squad'] = copy_df_initial['Squad']\n",
    "recommended_players.loc[:, 'Age'] = copy_df_initial['Age']\n",
    "\n",
    "recommended_players_filtered = recommended_players[['Player', 'Squad', 'Age']].copy()\n",
    "\n",
    "df_top_merged = pd.merge(df_tr_players, recommended_players_filtered, left_on='name', right_on='Player', how='inner')\n",
    "\n",
    "df_top_merged['market_value_in_eur'] = df_top_merged['market_value_in_eur'] / 1_000_000\n",
    "df_top_merged = df_top_merged[['name', 'Squad', 'Age', 'market_value_in_eur']]\n",
    "df_top_merged"
   ]
  },
  {
   "cell_type": "markdown",
   "id": "53d578e6",
   "metadata": {
    "papermill": {
     "duration": 0.014692,
     "end_time": "2024-11-05T12:45:27.342725",
     "exception": false,
     "start_time": "2024-11-05T12:45:27.328033",
     "status": "completed"
    },
    "tags": []
   },
   "source": [
    "We see that if we be Real Madrid, we don´t have to search our replace in any other team! as we have it in house ..."
   ]
  },
  {
   "cell_type": "markdown",
   "id": "76eeaf45",
   "metadata": {
    "papermill": {
     "duration": 0.014122,
     "end_time": "2024-11-05T12:45:27.371291",
     "exception": false,
     "start_time": "2024-11-05T12:45:27.357169",
     "status": "completed"
    },
    "tags": []
   },
   "source": [
    "# Gradient Boosting"
   ]
  },
  {
   "cell_type": "markdown",
   "id": "9a4fb0c4",
   "metadata": {
    "papermill": {
     "duration": 0.014326,
     "end_time": "2024-11-05T12:45:27.400844",
     "exception": false,
     "start_time": "2024-11-05T12:45:27.386518",
     "status": "completed"
    },
    "tags": []
   },
   "source": [
    "Good for classification and regression tasks. It builds models in a sequential manner\n",
    "\n",
    "Gradient Boosting is an ensemble type machine learning technique that combines multiple \"weak\" models (usually decision trees) to create a \"strong\" model. It aims to improve the performance of models by iteratively fine-tuning a model that corrects the errors of the previous model."
   ]
  },
  {
   "cell_type": "code",
   "execution_count": 11,
   "id": "322f7d8f",
   "metadata": {
    "execution": {
     "iopub.execute_input": "2024-11-05T12:45:27.443160Z",
     "iopub.status.busy": "2024-11-05T12:45:27.442444Z",
     "iopub.status.idle": "2024-11-05T12:45:27.571515Z",
     "shell.execute_reply": "2024-11-05T12:45:27.570193Z"
    },
    "papermill": {
     "duration": 0.15494,
     "end_time": "2024-11-05T12:45:27.574390",
     "exception": false,
     "start_time": "2024-11-05T12:45:27.419450",
     "status": "completed"
    },
    "tags": []
   },
   "outputs": [
    {
     "name": "stdout",
     "output_type": "stream",
     "text": [
      "Accuracy: 100.00%\n",
      "\n",
      "Classification Report:\n",
      "              precision    recall  f1-score   support\n",
      "\n",
      "           0       1.00      1.00      1.00       110\n",
      "\n",
      "    accuracy                           1.00       110\n",
      "   macro avg       1.00      1.00      1.00       110\n",
      "weighted avg       1.00      1.00      1.00       110\n",
      "\n",
      "\n",
      "Confusion Matrix:\n",
      "[[110]]\n"
     ]
    }
   ],
   "source": [
    "from sklearn.ensemble import GradientBoostingClassifier\n",
    "from sklearn.model_selection import train_test_split\n",
    "from sklearn.metrics import accuracy_score, classification_report, confusion_matrix\n",
    "\n",
    "# Example DataFrame - ensure you have your features and target ready\n",
    "features = ['PasTotCmp%', 'PasTotDist', 'PasTotPrgDist', 'PasMedCmp%', 'PasLonCmp%', 'PasProg', 'PasAss', 'SCA', 'GCA']\n",
    "X = df_normalized_rf[features]\n",
    "y = df_normalized_rf['suitable_for_team']\n",
    "\n",
    "# Train-test split\n",
    "X_train, X_test, y_train, y_test = train_test_split(X, y, test_size=0.3, random_state=42)\n",
    "\n",
    "# Train the Gradient Boosting model\n",
    "model = GradientBoostingClassifier(random_state=42)\n",
    "model.fit(X_train, y_train)\n",
    "\n",
    "# Predictions\n",
    "y_pred = model.predict(X_test)\n",
    "\n",
    "# Evaluate the model\n",
    "accuracy = accuracy_score(y_test, y_pred)\n",
    "print(f\"Accuracy: {accuracy * 100:.2f}%\")\n",
    "print(\"\\nClassification Report:\")\n",
    "print(classification_report(y_test, y_pred))\n",
    "confusion = confusion_matrix(y_test, y_pred)\n",
    "print(\"\\nConfusion Matrix:\")\n",
    "print(confusion)"
   ]
  },
  {
   "cell_type": "markdown",
   "id": "eb55b3e0",
   "metadata": {
    "papermill": {
     "duration": 0.014234,
     "end_time": "2024-11-05T12:45:27.603522",
     "exception": false,
     "start_time": "2024-11-05T12:45:27.589288",
     "status": "completed"
    },
    "tags": []
   },
   "source": [
    "**We make a prediction on full dataset**"
   ]
  },
  {
   "cell_type": "code",
   "execution_count": 12,
   "id": "1a762f32",
   "metadata": {
    "execution": {
     "iopub.execute_input": "2024-11-05T12:45:27.634468Z",
     "iopub.status.busy": "2024-11-05T12:45:27.633996Z",
     "iopub.status.idle": "2024-11-05T12:45:27.657559Z",
     "shell.execute_reply": "2024-11-05T12:45:27.656096Z"
    },
    "papermill": {
     "duration": 0.042037,
     "end_time": "2024-11-05T12:45:27.660223",
     "exception": false,
     "start_time": "2024-11-05T12:45:27.618186",
     "status": "completed"
    },
    "tags": []
   },
   "outputs": [
    {
     "name": "stdout",
     "output_type": "stream",
     "text": [
      "      PasTotCmp%  PasTotDist  PasTotPrgDist  PasMedCmp%  PasLonCmp%  PasProg  \\\n",
      "466     0.972399    0.726919       0.570996    0.978395       0.870  0.96063   \n",
      "1337    0.964968    1.000000       1.000000    0.977366       0.725  1.00000   \n",
      "\n",
      "        PasAss       SCA       GCA  \n",
      "466   0.616667  0.779141  0.562500  \n",
      "1337  0.597222  0.716258  0.196429  \n"
     ]
    }
   ],
   "source": [
    "# make prediction on full dataset\n",
    "df_normalized_rf['Predicted_Suitability'] = model.predict(df_normalized_rf[features])\n",
    "\n",
    "# filter recommended players\n",
    "recommended_players = df_normalized_rf[df_normalized_rf['Predicted_Suitability'] == 1]\n",
    "\n",
    "# watch only main features\n",
    "print(recommended_players[features])"
   ]
  },
  {
   "cell_type": "markdown",
   "id": "cb0545ab",
   "metadata": {
    "papermill": {
     "duration": 0.015027,
     "end_time": "2024-11-05T12:45:27.690333",
     "exception": false,
     "start_time": "2024-11-05T12:45:27.675306",
     "status": "completed"
    },
    "tags": []
   },
   "source": [
    "**Extract Player and Get current value from transfermarkt**"
   ]
  },
  {
   "cell_type": "code",
   "execution_count": 13,
   "id": "aa000825",
   "metadata": {
    "execution": {
     "iopub.execute_input": "2024-11-05T12:45:27.724339Z",
     "iopub.status.busy": "2024-11-05T12:45:27.723820Z",
     "iopub.status.idle": "2024-11-05T12:45:27.759873Z",
     "shell.execute_reply": "2024-11-05T12:45:27.758584Z"
    },
    "papermill": {
     "duration": 0.055032,
     "end_time": "2024-11-05T12:45:27.762661",
     "exception": false,
     "start_time": "2024-11-05T12:45:27.707629",
     "status": "completed"
    },
    "tags": []
   },
   "outputs": [
    {
     "data": {
      "text/html": [
       "<div>\n",
       "<style scoped>\n",
       "    .dataframe tbody tr th:only-of-type {\n",
       "        vertical-align: middle;\n",
       "    }\n",
       "\n",
       "    .dataframe tbody tr th {\n",
       "        vertical-align: top;\n",
       "    }\n",
       "\n",
       "    .dataframe thead th {\n",
       "        text-align: right;\n",
       "    }\n",
       "</style>\n",
       "<table border=\"1\" class=\"dataframe\">\n",
       "  <thead>\n",
       "    <tr style=\"text-align: right;\">\n",
       "      <th></th>\n",
       "      <th>name</th>\n",
       "      <th>Squad</th>\n",
       "      <th>Age</th>\n",
       "      <th>market_value_in_eur</th>\n",
       "    </tr>\n",
       "  </thead>\n",
       "  <tbody>\n",
       "    <tr>\n",
       "      <th>0</th>\n",
       "      <td>Toni Kroos</td>\n",
       "      <td>Real Madrid</td>\n",
       "      <td>33.0</td>\n",
       "      <td>10.0</td>\n",
       "    </tr>\n",
       "    <tr>\n",
       "      <th>1</th>\n",
       "      <td>Dani Ceballos</td>\n",
       "      <td>Real Madrid</td>\n",
       "      <td>26.0</td>\n",
       "      <td>4.0</td>\n",
       "    </tr>\n",
       "  </tbody>\n",
       "</table>\n",
       "</div>"
      ],
      "text/plain": [
       "            name        Squad   Age  market_value_in_eur\n",
       "0     Toni Kroos  Real Madrid  33.0                 10.0\n",
       "1  Dani Ceballos  Real Madrid  26.0                  4.0"
      ]
     },
     "execution_count": 13,
     "metadata": {},
     "output_type": "execute_result"
    }
   ],
   "source": [
    "recommended_players.loc[:, 'Player'] = copy_df_initial['Player']\n",
    "recommended_players.loc[:, 'Squad'] = copy_df_initial['Squad']\n",
    "recommended_players.loc[:, 'Age'] = copy_df_initial['Age']\n",
    "\n",
    "recommended_players_filtered = recommended_players[['Player', 'Squad', 'Age']].copy()\n",
    "\n",
    "df_top_merged = pd.merge(df_tr_players, recommended_players_filtered, left_on='name', right_on='Player', how='inner')\n",
    "\n",
    "df_top_merged['market_value_in_eur'] = df_top_merged['market_value_in_eur'] / 1_000_000\n",
    "df_top_merged = df_top_merged[['name', 'Squad', 'Age', 'market_value_in_eur']]\n",
    "df_top_merged"
   ]
  },
  {
   "cell_type": "markdown",
   "id": "0d43f4cc",
   "metadata": {
    "papermill": {
     "duration": 0.015279,
     "end_time": "2024-11-05T12:45:27.792944",
     "exception": false,
     "start_time": "2024-11-05T12:45:27.777665",
     "status": "completed"
    },
    "tags": []
   },
   "source": [
    "# Neural Network with MLPClassifier"
   ]
  },
  {
   "cell_type": "markdown",
   "id": "4a981c66",
   "metadata": {
    "papermill": {
     "duration": 0.014658,
     "end_time": "2024-11-05T12:45:27.822853",
     "exception": false,
     "start_time": "2024-11-05T12:45:27.808195",
     "status": "completed"
    },
    "tags": []
   },
   "source": [
    "The MLPClassifier (Multilayer Perceptron Classifier) ​​in scikit-learn is a feedforward neural network. It consists of several layers of neurons (an input layer, one or more hidden layers, and an output layer) and uses non-linear activation functions."
   ]
  },
  {
   "cell_type": "code",
   "execution_count": 14,
   "id": "96bd92df",
   "metadata": {
    "execution": {
     "iopub.execute_input": "2024-11-05T12:45:27.854613Z",
     "iopub.status.busy": "2024-11-05T12:45:27.854122Z",
     "iopub.status.idle": "2024-11-05T12:45:29.524910Z",
     "shell.execute_reply": "2024-11-05T12:45:29.523746Z"
    },
    "papermill": {
     "duration": 1.689831,
     "end_time": "2024-11-05T12:45:29.527552",
     "exception": false,
     "start_time": "2024-11-05T12:45:27.837721",
     "status": "completed"
    },
    "tags": []
   },
   "outputs": [
    {
     "name": "stdout",
     "output_type": "stream",
     "text": [
      "Accuracy: 100.00%\n",
      "\n",
      "Classification Report:\n",
      "              precision    recall  f1-score   support\n",
      "\n",
      "           0       1.00      1.00      1.00       110\n",
      "\n",
      "    accuracy                           1.00       110\n",
      "   macro avg       1.00      1.00      1.00       110\n",
      "weighted avg       1.00      1.00      1.00       110\n",
      "\n",
      "\n",
      "Confusion Matrix:\n",
      "[[110]]\n"
     ]
    },
    {
     "data": {
      "image/png": "[encoded data removed]",
      "text/plain": [
       "<Figure size 800x600 with 2 Axes>"
      ]
     },
     "metadata": {},
     "output_type": "display_data"
    }
   ],
   "source": [
    "from sklearn.neural_network import MLPClassifier\n",
    "from sklearn.model_selection import train_test_split\n",
    "from sklearn.metrics import accuracy_score, classification_report, confusion_matrix\n",
    "\n",
    "import matplotlib.pyplot as plt\n",
    "import seaborn as sns\n",
    "\n",
    "# Assuming df_normalized is your DataFrame\n",
    "# Features to be used for training\n",
    "features = ['PasTotCmp%', 'PasTotDist', 'PasTotPrgDist', 'PasMedCmp%', 'PasLonCmp%', 'PasProg', 'PasAss', 'SCA', 'GCA']\n",
    "\n",
    "# Prepare your features (X) and target (y)\n",
    "X = df_normalized_rf[features]\n",
    "y = df_normalized_rf['suitable_for_team']  # Assuming this is your target variable\n",
    "\n",
    "# Split the data into training and testing sets\n",
    "X_train, X_test, y_train, y_test = train_test_split(X, y, test_size=0.3, random_state=42)\n",
    "\n",
    "# Initialize and train the Neural Network model\n",
    "mlp = MLPClassifier(hidden_layer_sizes=(100, 50), max_iter=1000, random_state=42)\n",
    "mlp.fit(X_train, y_train)\n",
    "\n",
    "# Make predictions\n",
    "y_pred = mlp.predict(X_test)\n",
    "\n",
    "# Evaluate the model\n",
    "accuracy = accuracy_score(y_test, y_pred)\n",
    "print(f\"Accuracy: {accuracy * 100:.2f}%\")\n",
    "\n",
    "print(\"\\nClassification Report:\")\n",
    "print(classification_report(y_test, y_pred))\n",
    "\n",
    "# Confusion Matrix\n",
    "confusion = confusion_matrix(y_test, y_pred)\n",
    "print(\"\\nConfusion Matrix:\")\n",
    "print(confusion)\n",
    "\n",
    "# Plotting the confusion matrix\n",
    "plt.figure(figsize=(8, 6))\n",
    "sns.heatmap(confusion, annot=True, fmt='d', cmap='Blues', xticklabels=['Not Suitable', 'Suitable'], yticklabels=['Not Suitable', 'Suitable'])\n",
    "plt.ylabel('Actual')\n",
    "plt.xlabel('Predicted')\n",
    "plt.title('Confusion Matrix')\n",
    "plt.show()"
   ]
  },
  {
   "cell_type": "markdown",
   "id": "eb95773f",
   "metadata": {
    "papermill": {
     "duration": 0.015195,
     "end_time": "2024-11-05T12:45:29.558583",
     "exception": false,
     "start_time": "2024-11-05T12:45:29.543388",
     "status": "completed"
    },
    "tags": []
   },
   "source": [
    "**We make a prediction on full dataset**"
   ]
  },
  {
   "cell_type": "code",
   "execution_count": 15,
   "id": "d9d826dd",
   "metadata": {
    "execution": {
     "iopub.execute_input": "2024-11-05T12:45:29.592033Z",
     "iopub.status.busy": "2024-11-05T12:45:29.591564Z",
     "iopub.status.idle": "2024-11-05T12:45:29.621362Z",
     "shell.execute_reply": "2024-11-05T12:45:29.619672Z"
    },
    "papermill": {
     "duration": 0.051221,
     "end_time": "2024-11-05T12:45:29.625867",
     "exception": false,
     "start_time": "2024-11-05T12:45:29.574646",
     "status": "completed"
    },
    "tags": []
   },
   "outputs": [
    {
     "name": "stdout",
     "output_type": "stream",
     "text": [
      "      PasTotCmp%  PasTotDist  PasTotPrgDist  PasMedCmp%  PasLonCmp%  PasProg  \\\n",
      "1337    0.964968         1.0            1.0    0.977366       0.725      1.0   \n",
      "\n",
      "        PasAss       SCA       GCA  \n",
      "1337  0.597222  0.716258  0.196429  \n"
     ]
    }
   ],
   "source": [
    "# make prediction on full dataset\n",
    "df_normalized_rf['Predicted_Suitability'] = mlp.predict(df_normalized_rf[features])\n",
    "\n",
    "# filter recommended players\n",
    "recommended_players = df_normalized_rf[df_normalized_rf['Predicted_Suitability'] == 1]\n",
    "\n",
    "# watch only main features\n",
    "print(recommended_players[features])"
   ]
  },
  {
   "cell_type": "markdown",
   "id": "a3714f6b",
   "metadata": {
    "papermill": {
     "duration": 0.033444,
     "end_time": "2024-11-05T12:45:29.692293",
     "exception": false,
     "start_time": "2024-11-05T12:45:29.658849",
     "status": "completed"
    },
    "tags": []
   },
   "source": [
    "**Extract Player and Get current value from transfermarkt**"
   ]
  },
  {
   "cell_type": "code",
   "execution_count": 16,
   "id": "6c695a9c",
   "metadata": {
    "execution": {
     "iopub.execute_input": "2024-11-05T12:45:29.743410Z",
     "iopub.status.busy": "2024-11-05T12:45:29.742933Z",
     "iopub.status.idle": "2024-11-05T12:45:29.778921Z",
     "shell.execute_reply": "2024-11-05T12:45:29.777669Z"
    },
    "papermill": {
     "duration": 0.056007,
     "end_time": "2024-11-05T12:45:29.781951",
     "exception": false,
     "start_time": "2024-11-05T12:45:29.725944",
     "status": "completed"
    },
    "tags": []
   },
   "outputs": [
    {
     "data": {
      "text/html": [
       "<div>\n",
       "<style scoped>\n",
       "    .dataframe tbody tr th:only-of-type {\n",
       "        vertical-align: middle;\n",
       "    }\n",
       "\n",
       "    .dataframe tbody tr th {\n",
       "        vertical-align: top;\n",
       "    }\n",
       "\n",
       "    .dataframe thead th {\n",
       "        text-align: right;\n",
       "    }\n",
       "</style>\n",
       "<table border=\"1\" class=\"dataframe\">\n",
       "  <thead>\n",
       "    <tr style=\"text-align: right;\">\n",
       "      <th></th>\n",
       "      <th>name</th>\n",
       "      <th>Squad</th>\n",
       "      <th>Age</th>\n",
       "      <th>market_value_in_eur</th>\n",
       "    </tr>\n",
       "  </thead>\n",
       "  <tbody>\n",
       "    <tr>\n",
       "      <th>0</th>\n",
       "      <td>Toni Kroos</td>\n",
       "      <td>Real Madrid</td>\n",
       "      <td>33.0</td>\n",
       "      <td>10.0</td>\n",
       "    </tr>\n",
       "  </tbody>\n",
       "</table>\n",
       "</div>"
      ],
      "text/plain": [
       "         name        Squad   Age  market_value_in_eur\n",
       "0  Toni Kroos  Real Madrid  33.0                 10.0"
      ]
     },
     "execution_count": 16,
     "metadata": {},
     "output_type": "execute_result"
    }
   ],
   "source": [
    "recommended_players.loc[:, 'Player'] = copy_df_initial['Player']\n",
    "recommended_players.loc[:, 'Squad'] = copy_df_initial['Squad']\n",
    "recommended_players.loc[:, 'Age'] = copy_df_initial['Age']\n",
    "\n",
    "recommended_players_filtered = recommended_players[['Player', 'Squad', 'Age']].copy()\n",
    "\n",
    "df_top_merged = pd.merge(df_tr_players, recommended_players_filtered, left_on='name', right_on='Player', how='inner')\n",
    "\n",
    "df_top_merged['market_value_in_eur'] = df_top_merged['market_value_in_eur'] / 1_000_000\n",
    "df_top_merged = df_top_merged[['name', 'Squad', 'Age', 'market_value_in_eur']]\n",
    "df_top_merged"
   ]
  }
 ],
 "metadata": {
  "kaggle": {
   "accelerator": "none",
   "dataSources": [
    {
     "databundleVersionId": 5056142,
     "datasetId": 2535548,
     "sourceId": 4987408,
     "sourceType": "datasetVersion"
    },
    {
     "databundleVersionId": 10055455,
     "datasetId": 1071543,
     "sourceId": 9809269,
     "sourceType": "datasetVersion"
    }
   ],
   "dockerImageVersionId": 30786,
   "isGpuEnabled": false,
   "isInternetEnabled": true,
   "language": "python",
   "sourceType": "notebook"
  },
  "kernelspec": {
   "display_name": "Python 3",
   "language": "python",
   "name": "python3"
  },
  "language_info": {
   "codemirror_mode": {
    "name": "ipython",
    "version": 3
   },
   "file_extension": ".py",
   "mimetype": "text/x-python",
   "name": "python",
   "nbconvert_exporter": "python",
   "pygments_lexer": "ipython3",
   "version": "3.10.14"
  },
  "papermill": {
   "default_parameters": {},
   "duration": 12.980355,
   "end_time": "2024-11-05T12:45:30.520315",
   "environment_variables": {},
   "exception": null,
   "input_path": "__notebook__.ipynb",
   "output_path": "__notebook__.ipynb",
   "parameters": {},
   "start_time": "2024-11-05T12:45:17.539960",
   "version": "2.6.0"
  }
 },
 "nbformat": 4,
 "nbformat_minor": 5
}
